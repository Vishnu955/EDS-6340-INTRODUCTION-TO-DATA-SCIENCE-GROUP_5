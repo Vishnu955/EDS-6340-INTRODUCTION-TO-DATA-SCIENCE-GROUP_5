{
  "nbformat": 4,
  "nbformat_minor": 0,
  "metadata": {
    "colab": {
      "provenance": []
    },
    "kernelspec": {
      "name": "python3",
      "display_name": "Python 3"
    },
    "language_info": {
      "name": "python"
    }
  },
  "cells": [
    {
      "cell_type": "code",
      "source": [
        "#import requuired libraries\n",
        "import pandas as pd\n",
        "import numpy as np\n",
        "import sys\n",
        "import joblib\n",
        "sys.modules['sklearn.externals.joblib'] = joblib\n",
        "from mlxtend.feature_selection import SequentialFeatureSelector as SFS\n",
        "from sklearn.ensemble import RandomForestClassifier\n",
        "from sklearn.model_selection import GridSearchCV , train_test_split\n",
        "from sklearn.metrics import accuracy_score, confusion_matrix, classification_report, f1_score, roc_auc_score, recall_score\n",
        "import matplotlib.pyplot as plt\n",
        "import seaborn as sns\n",
        "from sklearn.preprocessing import StandardScaler, LabelEncoder\n",
        "from sklearn.neural_network import MLPClassifier\n",
        "from tensorflow.keras.models import Sequential\n",
        "from tensorflow.keras.layers import Dense\n",
        "from sklearn.ensemble import VotingClassifier\n",
        "import xgboost as xgb\n",
        "import warnings\n",
        "warnings.filterwarnings('ignore')"
      ],
      "metadata": {
        "id": "L71hZ7cuv1vz"
      },
      "execution_count": null,
      "outputs": []
    },
    {
      "cell_type": "code",
      "source": [
        "#extract a shareable link from google drive where the cleaned dataset resides\n",
        "#original google drive link - https://drive.google.com/file/d/19C6RISwVpnc-hCVWNhvd0PyLCBgDKsG5/view?usp=sharing\n",
        "#change the format of the link by noting the ID and assign it to a variable link\n",
        "\n",
        "data = 'https://drive.google.com/uc?id=19C6RISwVpnc-hCVWNhvd0PyLCBgDKsG5'"
      ],
      "metadata": {
        "id": "s1NozIPIwQdy"
      },
      "execution_count": null,
      "outputs": []
    },
    {
      "cell_type": "code",
      "source": [
        "upsampled = pd.read_csv(data)"
      ],
      "metadata": {
        "id": "0t2Sc4oqYdkn"
      },
      "execution_count": null,
      "outputs": []
    },
    {
      "cell_type": "code",
      "source": [
        "X = upsampled.drop('Machine_failure', axis=1)\n",
        "y = upsampled['Machine_failure']"
      ],
      "metadata": {
        "id": "BKKlfpquwX5D"
      },
      "execution_count": null,
      "outputs": []
    },
    {
      "cell_type": "code",
      "source": [
        "X_train, X_test, y_train, y_test = train_test_split(X, y, test_size=0.2, random_state=42)"
      ],
      "metadata": {
        "id": "4SG_sJfTx8AN"
      },
      "execution_count": null,
      "outputs": []
    },
    {
      "cell_type": "code",
      "source": [
        "from sklearn.preprocessing import StandardScaler\n",
        "# Normalizing the features\n",
        "scaler = StandardScaler()\n",
        "X_train_scaled = scaler.fit_transform(X_train)\n",
        "X_test_scaled = scaler.transform(X_test)"
      ],
      "metadata": {
        "id": "r6XTy3X7ymKg"
      },
      "execution_count": null,
      "outputs": []
    },
    {
      "cell_type": "markdown",
      "source": [
        "**XGBoost** **Model**"
      ],
      "metadata": {
        "id": "fxFq5e2pet8A"
      }
    },
    {
      "cell_type": "markdown",
      "source": [
        "XGBoost, short for eXtreme Gradient Boosting, is an ensemble learning algorithm known for its speed and performance."
      ],
      "metadata": {
        "id": "H-Usqf0lbWeI"
      }
    },
    {
      "cell_type": "code",
      "execution_count": null,
      "metadata": {
        "id": "MVi-k_uTr9lF",
        "colab": {
          "base_uri": "https://localhost:8080/"
        },
        "outputId": "76301179-8768-443d-b24f-210d2442d10a"
      },
      "outputs": [
        {
          "output_type": "stream",
          "name": "stdout",
          "text": [
            "Confusion Matrix:\n",
            "[[1941    1]\n",
            " [   0 1923]]\n",
            "\n",
            "Classification Report:\n",
            "              precision    recall  f1-score   support\n",
            "\n",
            "           0       1.00      1.00      1.00      1942\n",
            "           1       1.00      1.00      1.00      1923\n",
            "\n",
            "    accuracy                           1.00      3865\n",
            "   macro avg       1.00      1.00      1.00      3865\n",
            "weighted avg       1.00      1.00      1.00      3865\n",
            "\n",
            "Accuracy Score: 0.9997412677878396\n"
          ]
        }
      ],
      "source": [
        "import xgboost as xgb\n",
        "\n",
        "# Training the XGBoost model\n",
        "xgb_model = xgb.XGBClassifier(use_label_encoder=False, eval_metric='logloss')\n",
        "xgb_model.fit(X_train_scaled,y_train)\n",
        "\n",
        "# Predictions\n",
        "y_pred = xgb_model.predict(X_test_scaled)\n",
        "\n",
        "# Evaluating the model\n",
        "print(\"Confusion Matrix:\")\n",
        "print(confusion_matrix(y_test, y_pred))\n",
        "print(\"\\nClassification Report:\")\n",
        "print(classification_report(y_test, y_pred))\n",
        "print(\"Accuracy Score:\", accuracy_score(y_test, y_pred))\n",
        "accuracy_xgboost = accuracy_score(y_test, y_pred)"
      ]
    },
    {
      "cell_type": "markdown",
      "source": [
        "**ELM Model**"
      ],
      "metadata": {
        "id": "sscvhwa_ezuN"
      }
    },
    {
      "cell_type": "markdown",
      "source": [
        "Extreme Learning Machines (ELM) is a type of machine learning algorithm that falls under the umbrella of neural networks."
      ],
      "metadata": {
        "id": "vipgvQQLb4uu"
      }
    },
    {
      "cell_type": "code",
      "source": [
        "# Create and train the ELM model\n",
        "elm_model = MLPClassifier(hidden_layer_sizes=(10,), activation='logistic', max_iter=1000, random_state=42)\n",
        "elm_model.fit(X_train_scaled, y_train)\n",
        "\n",
        "# Make predictions on the test set\n",
        "y_pred_elm = elm_model.predict(X_test_scaled)\n",
        "\n",
        "# Evaluate the ELM model\n",
        "print(\"Confusion Matrix:\")\n",
        "print(confusion_matrix(y_test, y_pred_elm))\n",
        "print(\"\\nClassification Report:\")\n",
        "print(classification_report(y_test, y_pred_elm))\n",
        "print(\"Accuracy Score:\", accuracy_score(y_test, y_pred_elm))\n"
      ],
      "metadata": {
        "id": "RbgQt7pQvz3R",
        "colab": {
          "base_uri": "https://localhost:8080/"
        },
        "outputId": "452c0b9e-9da0-4028-ac4d-a3ca6c5b006b"
      },
      "execution_count": null,
      "outputs": [
        {
          "output_type": "stream",
          "name": "stdout",
          "text": [
            "Confusion Matrix:\n",
            "[[1942    0]\n",
            " [  53 1870]]\n",
            "\n",
            "Classification Report:\n",
            "              precision    recall  f1-score   support\n",
            "\n",
            "           0       0.97      1.00      0.99      1942\n",
            "           1       1.00      0.97      0.99      1923\n",
            "\n",
            "    accuracy                           0.99      3865\n",
            "   macro avg       0.99      0.99      0.99      3865\n",
            "weighted avg       0.99      0.99      0.99      3865\n",
            "\n",
            "Accuracy Score: 0.986287192755498\n"
          ]
        }
      ]
    },
    {
      "cell_type": "markdown",
      "source": [
        "**Deep learning model with two layers**"
      ],
      "metadata": {
        "id": "RUZOATjMe34T"
      }
    },
    {
      "cell_type": "markdown",
      "source": [
        "A basic deep learning model with two layers typically refers to a neural network with one hidden layer between the input and output layers"
      ],
      "metadata": {
        "id": "ZcwzrZ--dttr"
      }
    },
    {
      "cell_type": "code",
      "source": [
        "# Create a sequential model\n",
        "model = Sequential()"
      ],
      "metadata": {
        "id": "AELQh73mfFLt"
      },
      "execution_count": null,
      "outputs": []
    },
    {
      "cell_type": "code",
      "source": [
        "# Add the first hidden layer with input shape (assuming X_train has feature dimensions)\n",
        "model.add(Dense(units=64, activation='relu', input_shape=(X_train_scaled.shape[1],)))\n",
        "\n",
        "# Add the second hidden layer\n",
        "model.add(Dense(units=32, activation='relu'))\n",
        "\n",
        "# Output layer with sigmoid activation for binary classification\n",
        "model.add(Dense(units=1, activation='sigmoid'))"
      ],
      "metadata": {
        "id": "UlrKZtJgfnkW"
      },
      "execution_count": null,
      "outputs": []
    },
    {
      "cell_type": "code",
      "source": [
        "# Compile the model\n",
        "model.compile(optimizer='adam', loss='binary_crossentropy', metrics=['accuracy'])"
      ],
      "metadata": {
        "id": "ptkNESqifquR"
      },
      "execution_count": null,
      "outputs": []
    },
    {
      "cell_type": "code",
      "source": [
        "# Train the model\n",
        "model.fit(X_train_scaled, y_train, epochs=10, batch_size=32, validation_data=(X_test_scaled, y_test))"
      ],
      "metadata": {
        "colab": {
          "base_uri": "https://localhost:8080/"
        },
        "id": "Ysc31AyJfttd",
        "outputId": "4999baab-4b4f-484e-c203-1d9ead173082"
      },
      "execution_count": null,
      "outputs": [
        {
          "output_type": "stream",
          "name": "stdout",
          "text": [
            "Epoch 1/10\n",
            "484/484 [==============================] - 3s 3ms/step - loss: 0.1109 - accuracy: 0.9735 - val_loss: 0.0533 - val_accuracy: 0.9863\n",
            "Epoch 2/10\n",
            "484/484 [==============================] - 2s 4ms/step - loss: 0.0463 - accuracy: 0.9874 - val_loss: 0.0462 - val_accuracy: 0.9863\n",
            "Epoch 3/10\n",
            "484/484 [==============================] - 2s 4ms/step - loss: 0.0407 - accuracy: 0.9873 - val_loss: 0.0393 - val_accuracy: 0.9863\n",
            "Epoch 4/10\n",
            "484/484 [==============================] - 2s 3ms/step - loss: 0.0351 - accuracy: 0.9876 - val_loss: 0.0364 - val_accuracy: 0.9858\n",
            "Epoch 5/10\n",
            "484/484 [==============================] - 1s 3ms/step - loss: 0.0302 - accuracy: 0.9878 - val_loss: 0.0311 - val_accuracy: 0.9871\n",
            "Epoch 6/10\n",
            "484/484 [==============================] - 1s 3ms/step - loss: 0.0263 - accuracy: 0.9887 - val_loss: 0.0248 - val_accuracy: 0.9878\n",
            "Epoch 7/10\n",
            "484/484 [==============================] - 1s 3ms/step - loss: 0.0224 - accuracy: 0.9906 - val_loss: 0.0220 - val_accuracy: 0.9928\n",
            "Epoch 8/10\n",
            "484/484 [==============================] - 1s 3ms/step - loss: 0.0191 - accuracy: 0.9925 - val_loss: 0.0184 - val_accuracy: 0.9899\n",
            "Epoch 9/10\n",
            "484/484 [==============================] - 1s 3ms/step - loss: 0.0174 - accuracy: 0.9931 - val_loss: 0.0165 - val_accuracy: 0.9953\n",
            "Epoch 10/10\n",
            "484/484 [==============================] - 1s 3ms/step - loss: 0.0137 - accuracy: 0.9948 - val_loss: 0.0153 - val_accuracy: 0.9951\n"
          ]
        },
        {
          "output_type": "execute_result",
          "data": {
            "text/plain": [
              "<keras.src.callbacks.History at 0x7c4a84aacc40>"
            ]
          },
          "metadata": {},
          "execution_count": 39
        }
      ]
    },
    {
      "cell_type": "code",
      "source": [
        "# Make predictions\n",
        "y_pred = (model.predict(X_test_scaled) > 0.5).astype(\"int32\")\n",
        "\n",
        "# Evaluate the model\n",
        "print(\"Confusion Matrix:\")\n",
        "print(confusion_matrix(y_test, y_pred))\n",
        "print(\"\\nClassification Report:\")\n",
        "print(classification_report(y_test, y_pred))\n",
        "print(\"Accuracy Score:\", accuracy_score(y_test, y_pred))"
      ],
      "metadata": {
        "colab": {
          "base_uri": "https://localhost:8080/"
        },
        "id": "iQJZbjm2fuXh",
        "outputId": "029604c4-2108-459d-c1bc-be1b643a5683"
      },
      "execution_count": null,
      "outputs": [
        {
          "output_type": "stream",
          "name": "stdout",
          "text": [
            "121/121 [==============================] - 0s 2ms/step\n",
            "Confusion Matrix:\n",
            "[[1940    2]\n",
            " [  17 1906]]\n",
            "\n",
            "Classification Report:\n",
            "              precision    recall  f1-score   support\n",
            "\n",
            "           0       0.99      1.00      1.00      1942\n",
            "           1       1.00      0.99      1.00      1923\n",
            "\n",
            "    accuracy                           1.00      3865\n",
            "   macro avg       1.00      1.00      1.00      3865\n",
            "weighted avg       1.00      1.00      1.00      3865\n",
            "\n",
            "Accuracy Score: 0.9950840879689521\n"
          ]
        }
      ]
    },
    {
      "cell_type": "markdown",
      "source": [
        "**Ensemble Model Containing the Top 3 Models Overall**"
      ],
      "metadata": {
        "id": "8CNnpQXkd741"
      }
    },
    {
      "cell_type": "code",
      "source": [
        "# Create individual models\n",
        "xgb_model = xgb.XGBClassifier(use_label_encoder=False, eval_metric='logloss')\n",
        "elm_model = MLPClassifier(hidden_layer_sizes=(10,), activation='logistic', max_iter=1000, random_state=42)\n",
        "deep_model = MLPClassifier(hidden_layer_sizes=(10, 5), max_iter=1000, random_state=42)"
      ],
      "metadata": {
        "id": "89AWHOCq7y6S"
      },
      "execution_count": null,
      "outputs": []
    },
    {
      "cell_type": "code",
      "source": [
        "# Create an ensemble of the top 3 models\n",
        "ensemble_model = VotingClassifier(estimators=[\n",
        "    ('xgb', xgb_model),\n",
        "    ('elm', elm_model),\n",
        "    ('deep', deep_model)\n",
        "], voting='hard')"
      ],
      "metadata": {
        "id": "c69TF6o-gT8f"
      },
      "execution_count": null,
      "outputs": []
    },
    {
      "cell_type": "code",
      "source": [
        "# Train the ensemble model\n",
        "ensemble_model.fit(X_train_scaled, y_train)"
      ],
      "metadata": {
        "id": "CoWkBJWQv04j",
        "colab": {
          "base_uri": "https://localhost:8080/",
          "height": 109
        },
        "outputId": "6e673436-8926-4354-b56c-57ab32fcd01f"
      },
      "execution_count": null,
      "outputs": [
        {
          "output_type": "execute_result",
          "data": {
            "text/plain": [
              "VotingClassifier(estimators=[('xgb',\n",
              "                              XGBClassifier(base_score=None, booster=None,\n",
              "                                            callbacks=None,\n",
              "                                            colsample_bylevel=None,\n",
              "                                            colsample_bynode=None,\n",
              "                                            colsample_bytree=None, device=None,\n",
              "                                            early_stopping_rounds=None,\n",
              "                                            enable_categorical=False,\n",
              "                                            eval_metric='logloss',\n",
              "                                            feature_types=None, gamma=None,\n",
              "                                            grow_policy=None,\n",
              "                                            importance_type=None,\n",
              "                                            interaction_constraints=None,\n",
              "                                            learni...\n",
              "                                            max_leaves=None,\n",
              "                                            min_child_weight=None, missing=nan,\n",
              "                                            monotone_constraints=None,\n",
              "                                            multi_strategy=None,\n",
              "                                            n_estimators=None, n_jobs=None,\n",
              "                                            num_parallel_tree=None,\n",
              "                                            random_state=None, ...)),\n",
              "                             ('elm',\n",
              "                              MLPClassifier(activation='logistic',\n",
              "                                            hidden_layer_sizes=(10,),\n",
              "                                            max_iter=1000, random_state=42)),\n",
              "                             ('deep',\n",
              "                              MLPClassifier(hidden_layer_sizes=(10, 5),\n",
              "                                            max_iter=1000, random_state=42))])"
            ],
            "text/html": [
              "<style>#sk-container-id-1 {color: black;background-color: white;}#sk-container-id-1 pre{padding: 0;}#sk-container-id-1 div.sk-toggleable {background-color: white;}#sk-container-id-1 label.sk-toggleable__label {cursor: pointer;display: block;width: 100%;margin-bottom: 0;padding: 0.3em;box-sizing: border-box;text-align: center;}#sk-container-id-1 label.sk-toggleable__label-arrow:before {content: \"▸\";float: left;margin-right: 0.25em;color: #696969;}#sk-container-id-1 label.sk-toggleable__label-arrow:hover:before {color: black;}#sk-container-id-1 div.sk-estimator:hover label.sk-toggleable__label-arrow:before {color: black;}#sk-container-id-1 div.sk-toggleable__content {max-height: 0;max-width: 0;overflow: hidden;text-align: left;background-color: #f0f8ff;}#sk-container-id-1 div.sk-toggleable__content pre {margin: 0.2em;color: black;border-radius: 0.25em;background-color: #f0f8ff;}#sk-container-id-1 input.sk-toggleable__control:checked~div.sk-toggleable__content {max-height: 200px;max-width: 100%;overflow: auto;}#sk-container-id-1 input.sk-toggleable__control:checked~label.sk-toggleable__label-arrow:before {content: \"▾\";}#sk-container-id-1 div.sk-estimator input.sk-toggleable__control:checked~label.sk-toggleable__label {background-color: #d4ebff;}#sk-container-id-1 div.sk-label input.sk-toggleable__control:checked~label.sk-toggleable__label {background-color: #d4ebff;}#sk-container-id-1 input.sk-hidden--visually {border: 0;clip: rect(1px 1px 1px 1px);clip: rect(1px, 1px, 1px, 1px);height: 1px;margin: -1px;overflow: hidden;padding: 0;position: absolute;width: 1px;}#sk-container-id-1 div.sk-estimator {font-family: monospace;background-color: #f0f8ff;border: 1px dotted black;border-radius: 0.25em;box-sizing: border-box;margin-bottom: 0.5em;}#sk-container-id-1 div.sk-estimator:hover {background-color: #d4ebff;}#sk-container-id-1 div.sk-parallel-item::after {content: \"\";width: 100%;border-bottom: 1px solid gray;flex-grow: 1;}#sk-container-id-1 div.sk-label:hover label.sk-toggleable__label {background-color: #d4ebff;}#sk-container-id-1 div.sk-serial::before {content: \"\";position: absolute;border-left: 1px solid gray;box-sizing: border-box;top: 0;bottom: 0;left: 50%;z-index: 0;}#sk-container-id-1 div.sk-serial {display: flex;flex-direction: column;align-items: center;background-color: white;padding-right: 0.2em;padding-left: 0.2em;position: relative;}#sk-container-id-1 div.sk-item {position: relative;z-index: 1;}#sk-container-id-1 div.sk-parallel {display: flex;align-items: stretch;justify-content: center;background-color: white;position: relative;}#sk-container-id-1 div.sk-item::before, #sk-container-id-1 div.sk-parallel-item::before {content: \"\";position: absolute;border-left: 1px solid gray;box-sizing: border-box;top: 0;bottom: 0;left: 50%;z-index: -1;}#sk-container-id-1 div.sk-parallel-item {display: flex;flex-direction: column;z-index: 1;position: relative;background-color: white;}#sk-container-id-1 div.sk-parallel-item:first-child::after {align-self: flex-end;width: 50%;}#sk-container-id-1 div.sk-parallel-item:last-child::after {align-self: flex-start;width: 50%;}#sk-container-id-1 div.sk-parallel-item:only-child::after {width: 0;}#sk-container-id-1 div.sk-dashed-wrapped {border: 1px dashed gray;margin: 0 0.4em 0.5em 0.4em;box-sizing: border-box;padding-bottom: 0.4em;background-color: white;}#sk-container-id-1 div.sk-label label {font-family: monospace;font-weight: bold;display: inline-block;line-height: 1.2em;}#sk-container-id-1 div.sk-label-container {text-align: center;}#sk-container-id-1 div.sk-container {/* jupyter's `normalize.less` sets `[hidden] { display: none; }` but bootstrap.min.css set `[hidden] { display: none !important; }` so we also need the `!important` here to be able to override the default hidden behavior on the sphinx rendered scikit-learn.org. See: https://github.com/scikit-learn/scikit-learn/issues/21755 */display: inline-block !important;position: relative;}#sk-container-id-1 div.sk-text-repr-fallback {display: none;}</style><div id=\"sk-container-id-1\" class=\"sk-top-container\"><div class=\"sk-text-repr-fallback\"><pre>VotingClassifier(estimators=[(&#x27;xgb&#x27;,\n",
              "                              XGBClassifier(base_score=None, booster=None,\n",
              "                                            callbacks=None,\n",
              "                                            colsample_bylevel=None,\n",
              "                                            colsample_bynode=None,\n",
              "                                            colsample_bytree=None, device=None,\n",
              "                                            early_stopping_rounds=None,\n",
              "                                            enable_categorical=False,\n",
              "                                            eval_metric=&#x27;logloss&#x27;,\n",
              "                                            feature_types=None, gamma=None,\n",
              "                                            grow_policy=None,\n",
              "                                            importance_type=None,\n",
              "                                            interaction_constraints=None,\n",
              "                                            learni...\n",
              "                                            max_leaves=None,\n",
              "                                            min_child_weight=None, missing=nan,\n",
              "                                            monotone_constraints=None,\n",
              "                                            multi_strategy=None,\n",
              "                                            n_estimators=None, n_jobs=None,\n",
              "                                            num_parallel_tree=None,\n",
              "                                            random_state=None, ...)),\n",
              "                             (&#x27;elm&#x27;,\n",
              "                              MLPClassifier(activation=&#x27;logistic&#x27;,\n",
              "                                            hidden_layer_sizes=(10,),\n",
              "                                            max_iter=1000, random_state=42)),\n",
              "                             (&#x27;deep&#x27;,\n",
              "                              MLPClassifier(hidden_layer_sizes=(10, 5),\n",
              "                                            max_iter=1000, random_state=42))])</pre><b>In a Jupyter environment, please rerun this cell to show the HTML representation or trust the notebook. <br />On GitHub, the HTML representation is unable to render, please try loading this page with nbviewer.org.</b></div><div class=\"sk-container\" hidden><div class=\"sk-item sk-dashed-wrapped\"><div class=\"sk-label-container\"><div class=\"sk-label sk-toggleable\"><input class=\"sk-toggleable__control sk-hidden--visually\" id=\"sk-estimator-id-1\" type=\"checkbox\" ><label for=\"sk-estimator-id-1\" class=\"sk-toggleable__label sk-toggleable__label-arrow\">VotingClassifier</label><div class=\"sk-toggleable__content\"><pre>VotingClassifier(estimators=[(&#x27;xgb&#x27;,\n",
              "                              XGBClassifier(base_score=None, booster=None,\n",
              "                                            callbacks=None,\n",
              "                                            colsample_bylevel=None,\n",
              "                                            colsample_bynode=None,\n",
              "                                            colsample_bytree=None, device=None,\n",
              "                                            early_stopping_rounds=None,\n",
              "                                            enable_categorical=False,\n",
              "                                            eval_metric=&#x27;logloss&#x27;,\n",
              "                                            feature_types=None, gamma=None,\n",
              "                                            grow_policy=None,\n",
              "                                            importance_type=None,\n",
              "                                            interaction_constraints=None,\n",
              "                                            learni...\n",
              "                                            max_leaves=None,\n",
              "                                            min_child_weight=None, missing=nan,\n",
              "                                            monotone_constraints=None,\n",
              "                                            multi_strategy=None,\n",
              "                                            n_estimators=None, n_jobs=None,\n",
              "                                            num_parallel_tree=None,\n",
              "                                            random_state=None, ...)),\n",
              "                             (&#x27;elm&#x27;,\n",
              "                              MLPClassifier(activation=&#x27;logistic&#x27;,\n",
              "                                            hidden_layer_sizes=(10,),\n",
              "                                            max_iter=1000, random_state=42)),\n",
              "                             (&#x27;deep&#x27;,\n",
              "                              MLPClassifier(hidden_layer_sizes=(10, 5),\n",
              "                                            max_iter=1000, random_state=42))])</pre></div></div></div><div class=\"sk-parallel\"><div class=\"sk-parallel-item\"><div class=\"sk-item\"><div class=\"sk-label-container\"><div class=\"sk-label sk-toggleable\"><label>xgb</label></div></div><div class=\"sk-serial\"><div class=\"sk-item\"><div class=\"sk-estimator sk-toggleable\"><input class=\"sk-toggleable__control sk-hidden--visually\" id=\"sk-estimator-id-2\" type=\"checkbox\" ><label for=\"sk-estimator-id-2\" class=\"sk-toggleable__label sk-toggleable__label-arrow\">XGBClassifier</label><div class=\"sk-toggleable__content\"><pre>XGBClassifier(base_score=None, booster=None, callbacks=None,\n",
              "              colsample_bylevel=None, colsample_bynode=None,\n",
              "              colsample_bytree=None, device=None, early_stopping_rounds=None,\n",
              "              enable_categorical=False, eval_metric=&#x27;logloss&#x27;,\n",
              "              feature_types=None, gamma=None, grow_policy=None,\n",
              "              importance_type=None, interaction_constraints=None,\n",
              "              learning_rate=None, max_bin=None, max_cat_threshold=None,\n",
              "              max_cat_to_onehot=None, max_delta_step=None, max_depth=None,\n",
              "              max_leaves=None, min_child_weight=None, missing=nan,\n",
              "              monotone_constraints=None, multi_strategy=None, n_estimators=None,\n",
              "              n_jobs=None, num_parallel_tree=None, random_state=None, ...)</pre></div></div></div></div></div></div><div class=\"sk-parallel-item\"><div class=\"sk-item\"><div class=\"sk-label-container\"><div class=\"sk-label sk-toggleable\"><label>elm</label></div></div><div class=\"sk-serial\"><div class=\"sk-item\"><div class=\"sk-estimator sk-toggleable\"><input class=\"sk-toggleable__control sk-hidden--visually\" id=\"sk-estimator-id-3\" type=\"checkbox\" ><label for=\"sk-estimator-id-3\" class=\"sk-toggleable__label sk-toggleable__label-arrow\">MLPClassifier</label><div class=\"sk-toggleable__content\"><pre>MLPClassifier(activation=&#x27;logistic&#x27;, hidden_layer_sizes=(10,), max_iter=1000,\n",
              "              random_state=42)</pre></div></div></div></div></div></div><div class=\"sk-parallel-item\"><div class=\"sk-item\"><div class=\"sk-label-container\"><div class=\"sk-label sk-toggleable\"><label>deep</label></div></div><div class=\"sk-serial\"><div class=\"sk-item\"><div class=\"sk-estimator sk-toggleable\"><input class=\"sk-toggleable__control sk-hidden--visually\" id=\"sk-estimator-id-4\" type=\"checkbox\" ><label for=\"sk-estimator-id-4\" class=\"sk-toggleable__label sk-toggleable__label-arrow\">MLPClassifier</label><div class=\"sk-toggleable__content\"><pre>MLPClassifier(hidden_layer_sizes=(10, 5), max_iter=1000, random_state=42)</pre></div></div></div></div></div></div></div></div></div></div>"
            ]
          },
          "metadata": {},
          "execution_count": 44
        }
      ]
    },
    {
      "cell_type": "code",
      "source": [
        "# Make predictions on the test set\n",
        "y_pred_ensemble = ensemble_model.predict(X_test_scaled)\n",
        "\n",
        "# Evaluate the ensemble model\n",
        "print(\"Confusion Matrix:\")\n",
        "print(confusion_matrix(y_test, y_pred_ensemble))\n",
        "print(\"\\nClassification Report:\")\n",
        "print(classification_report(y_test, y_pred_ensemble))\n",
        "print(\"Accuracy Score:\", accuracy_score(y_test, y_pred_ensemble))"
      ],
      "metadata": {
        "colab": {
          "base_uri": "https://localhost:8080/"
        },
        "id": "ZX9FklH16K-e",
        "outputId": "b86cb55d-177b-41b6-b03c-10c8cec0a35d"
      },
      "execution_count": null,
      "outputs": [
        {
          "output_type": "stream",
          "name": "stdout",
          "text": [
            "Confusion Matrix:\n",
            "[[1942    0]\n",
            " [   4 1919]]\n",
            "\n",
            "Classification Report:\n",
            "              precision    recall  f1-score   support\n",
            "\n",
            "           0       1.00      1.00      1.00      1942\n",
            "           1       1.00      1.00      1.00      1923\n",
            "\n",
            "    accuracy                           1.00      3865\n",
            "   macro avg       1.00      1.00      1.00      3865\n",
            "weighted avg       1.00      1.00      1.00      3865\n",
            "\n",
            "Accuracy Score: 0.9989650711513584\n"
          ]
        }
      ]
    },
    {
      "cell_type": "markdown",
      "source": [
        "All the models exhibited strong performance, but XGBoost stands out as exceptional, boasting a remarkable accuracy of 99.97%. Its ability to handle complex datasets, robustness against overfitting, and efficient optimization procedures contribute to its superiority among the models evaluated. While the other models performed well, XGBoost's outstanding results make it a standout choice for predictive modeling in this context."
      ],
      "metadata": {
        "id": "42DPKpoKhyn6"
      }
    }
  ]
}